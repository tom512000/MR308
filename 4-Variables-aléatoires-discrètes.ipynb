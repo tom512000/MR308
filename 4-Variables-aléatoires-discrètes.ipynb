{
 "cells": [
  {
   "cell_type": "markdown",
   "id": "f476bbd3",
   "metadata": {},
   "source": [
    "# Variables aléatoires discrètes"
   ]
  },
  {
   "cell_type": "markdown",
   "id": "e241d7ee",
   "metadata": {},
   "source": [
    "## 1 Exemple introductif"
   ]
  },
  {
   "cell_type": "markdown",
   "id": "51941702",
   "metadata": {},
   "source": [
    "### 1.1 Calculs exacts"
   ]
  },
  {
   "cell_type": "markdown",
   "id": "64efed4e",
   "metadata": {},
   "source": [
    "a. Gains pour toutes les issues possibles :"
   ]
  },
  {
   "cell_type": "code",
   "execution_count": 2,
   "id": "ef89ad47",
   "metadata": {},
   "outputs": [
    {
     "name": "stdout",
     "output_type": "stream",
     "text": [
      "[2, 3, 4, 5, 6, 7, 3, 4, 5, 6, 7, 8, 4, 5, 6, 7, 8, 9, 5, 6, 7, 8, 9, 10, 6, 7, 8, 9, 10, 11, 7, 8, 9, 10, 11, 12]\n"
     ]
    }
   ],
   "source": [
    "gains = []\n",
    "for de1 in range(1,6+1):\n",
    "    for de2 in range(1,6+1):\n",
    "        gains.append(de1+de2)\n",
    "\n",
    "print(gains)"
   ]
  },
  {
   "cell_type": "markdown",
   "id": "362da7e3",
   "metadata": {},
   "source": [
    "b. Loi de probabilité :"
   ]
  },
  {
   "cell_type": "code",
   "execution_count": 3,
   "id": "8cfee413",
   "metadata": {},
   "outputs": [
    {
     "name": "stdout",
     "output_type": "stream",
     "text": [
      "[(2, 0.027777777777777776), (3, 0.05555555555555555), (4, 0.08333333333333333), (5, 0.1111111111111111), (6, 0.1388888888888889), (7, 0.16666666666666666), (8, 0.1388888888888889), (9, 0.1111111111111111), (10, 0.08333333333333333), (11, 0.05555555555555555), (12, 0.027777777777777776)]\n"
     ]
    }
   ],
   "source": [
    "import numpy as np\n",
    "omegax = list(range(2,12+1))\n",
    "loi = []\n",
    "for k in omegax:\n",
    "    pk = gains.count(k) / len(gains)\n",
    "    loi.append((k,pk))\n",
    "print(loi)"
   ]
  },
  {
   "cell_type": "markdown",
   "id": "74ba2549",
   "metadata": {},
   "source": [
    "c. Calcul de l'espérance :"
   ]
  },
  {
   "cell_type": "code",
   "execution_count": 4,
   "id": "f561f042",
   "metadata": {},
   "outputs": [
    {
     "name": "stdout",
     "output_type": "stream",
     "text": [
      "6.999999999999999\n"
     ]
    }
   ],
   "source": [
    "esperance = 0\n",
    "for  (k,pk) in loi:\n",
    "    esperance += k * pk\n",
    "print(esperance)"
   ]
  },
  {
   "cell_type": "markdown",
   "id": "a3e795e1",
   "metadata": {},
   "source": [
    "d. Calcul de la variance :"
   ]
  },
  {
   "cell_type": "code",
   "execution_count": 5,
   "id": "43a954dd",
   "metadata": {},
   "outputs": [
    {
     "name": "stdout",
     "output_type": "stream",
     "text": [
      "5.833333333333336\n"
     ]
    }
   ],
   "source": [
    "variance = 0\n",
    "for (k,pk) in loi:\n",
    "    variance = variance + (k ** 2) * pk\n",
    "variance = variance - esperance ** 2\n",
    "print(variance)"
   ]
  },
  {
   "cell_type": "markdown",
   "id": "5172fa3b",
   "metadata": {},
   "source": [
    "### 1.2 Simulation"
   ]
  },
  {
   "cell_type": "markdown",
   "id": "0cabcc14",
   "metadata": {},
   "source": [
    "#### Loi de probabilité"
   ]
  },
  {
   "cell_type": "code",
   "execution_count": 2,
   "id": "a5538e78",
   "metadata": {},
   "outputs": [],
   "source": [
    "import random\n",
    "\n",
    "def simulation_experience():\n",
    "    return random.choices([1, 2, 3, 4, 5, 6], k=10)"
   ]
  },
  {
   "cell_type": "code",
   "execution_count": 3,
   "id": "31aa38f5",
   "metadata": {},
   "outputs": [],
   "source": [
    "def fun_X(des):\n",
    "    return sum(des)"
   ]
  },
  {
   "cell_type": "code",
   "execution_count": 4,
   "id": "6618f1e7",
   "metadata": {},
   "outputs": [],
   "source": [
    "def simulation_repetee(exp, X, nrep):\n",
    "    return [X(exp()) for _ in range(nrep)]"
   ]
  },
  {
   "cell_type": "code",
   "execution_count": 5,
   "id": "af8baebf",
   "metadata": {},
   "outputs": [],
   "source": [
    "import random\n",
    "import numpy\n",
    "\n",
    "def estimation_loi(valeurs_obtenues, valeurs_possibles):\n",
    "    # Ensemble des valeurs différentes possibles\n",
    "    # prises par la variable aléatoire\n",
    "    omegax = valeurs_possibles\n",
    "    # On calcule ensuite le nombre de fois où chaque\n",
    "    # valeur de Omega_X apparait dans l'ensemble des valeurs \n",
    "    # que l'on divise par le nombre de répétitions (i.e. le nombre de valeurs)\n",
    "    res = []\n",
    "    for k in omegax :\n",
    "        res.append((k, valeurs_obtenues.count(k) / len(valeurs_obtenues)))\n",
    "    return res"
   ]
  },
  {
   "cell_type": "code",
   "execution_count": 6,
   "id": "de7bf068",
   "metadata": {},
   "outputs": [
    {
     "name": "stdout",
     "output_type": "stream",
     "text": [
      "[(10, 0.0), (11, 0.0), (12, 0.0), (13, 0.0), (14, 0.0), (15, 0.0), (16, 0.0), (17, 0.0), (18, 0.001), (19, 0.001), (20, 0.002), (21, 0.005), (22, 0.005), (23, 0.007), (24, 0.012), (25, 0.015), (26, 0.024), (27, 0.027), (28, 0.037), (29, 0.04), (30, 0.046), (31, 0.054), (32, 0.067), (33, 0.066), (34, 0.061), (35, 0.087), (36, 0.075), (37, 0.062), (38, 0.061), (39, 0.063), (40, 0.04), (41, 0.039), (42, 0.033), (43, 0.021), (44, 0.021), (45, 0.014), (46, 0.007), (47, 0.001), (48, 0.002), (49, 0.003), (50, 0.001), (51, 0.0), (52, 0.0), (53, 0.0), (54, 0.0), (55, 0.0), (56, 0.0), (57, 0.0), (58, 0.0), (59, 0.0), (60, 0.0)]\n"
     ]
    }
   ],
   "source": [
    "valeurs_simulees = simulation_repetee(simulation_experience, fun_X, 1000)\n",
    "loi = estimation_loi(valeurs_simulees, list(range(10,60+1)))\n",
    "print(loi)"
   ]
  },
  {
   "cell_type": "code",
   "execution_count": 7,
   "id": "74cabc8d",
   "metadata": {},
   "outputs": [
    {
     "data": {
      "image/png": "[encoded data removed]",
      "text/plain": [
       "<Figure size 432x288 with 1 Axes>"
      ]
     },
     "metadata": {
      "needs_background": "light"
     },
     "output_type": "display_data"
    }
   ],
   "source": [
    "import matplotlib\n",
    "import matplotlib.pyplot as plt\n",
    "\n",
    "x = []\n",
    "y = []\n",
    "for (k,pk) in loi :\n",
    "    x.append(k)\n",
    "    y.append(pk)\n",
    "plt.figure()\n",
    "plt.bar(x,height = y, width = 0.2)\n",
    "plt.xlabel(\"k\")\n",
    "plt.ylabel(\"P(X=k)\")\n",
    "plt.show()"
   ]
  },
  {
   "cell_type": "markdown",
   "id": "464dca61",
   "metadata": {},
   "source": [
    "#### Cas où oméga de x est difficile à déterminer"
   ]
  },
  {
   "cell_type": "code",
   "execution_count": 8,
   "id": "00e43cd4",
   "metadata": {},
   "outputs": [],
   "source": [
    "def estimation_loi(valeurs_obtenues, valeurs_possibles = None):\n",
    "    # On détermine Omega_X\n",
    "    if valeurs_possibles is None :\n",
    "        omegax = numpy.unique(valeurs_obtenues)\n",
    "    else :\n",
    "        omegax = valeurs_possibles\n",
    "    # On calcule ensuite le nombre de fois où chaque\n",
    "    # valeur de Omega_X apparait dans l'ensemble des valeurs \n",
    "    # que l'on divise par le nombre de répétitions (i.e. le nombre de valeurs)\n",
    "    res = []\n",
    "    for k in omegax :\n",
    "        res.append((k, valeurs_obtenues.count(k) / len(valeurs_obtenues)))\n",
    "    return res"
   ]
  },
  {
   "cell_type": "code",
   "execution_count": 9,
   "id": "09ec6b0f",
   "metadata": {},
   "outputs": [
    {
     "name": "stdout",
     "output_type": "stream",
     "text": [
      "[(17, 0.0001), (18, 0.0005), (19, 0.001), (20, 0.0013), (21, 0.0014), (22, 0.0044), (23, 0.0087), (24, 0.0099), (25, 0.0138), (26, 0.0196), (27, 0.025), (28, 0.0316), (29, 0.0396), (30, 0.0429), (31, 0.0536), (32, 0.0632), (33, 0.0656), (34, 0.0729), (35, 0.072), (36, 0.0727), (37, 0.073), (38, 0.0616), (39, 0.0573), (40, 0.053), (41, 0.0375), (42, 0.0342), (43, 0.0252), (44, 0.0203), (45, 0.014), (46, 0.0088), (47, 0.0063), (48, 0.0038), (49, 0.0021), (50, 0.0017), (51, 0.0002), (52, 0.0005), (53, 0.0003), (54, 0.0002), (55, 0.0002)]\n"
     ]
    }
   ],
   "source": [
    "valeurs_simulees = simulation_repetee(simulation_experience, fun_X, 10000)\n",
    "loi = estimation_loi(valeurs_simulees)\n",
    "print(loi)"
   ]
  },
  {
   "cell_type": "code",
   "execution_count": 10,
   "id": "a6af3354",
   "metadata": {},
   "outputs": [
    {
     "data": {
      "image/png": "[encoded data removed]",
      "text/plain": [
       "<Figure size 432x288 with 1 Axes>"
      ]
     },
     "metadata": {
      "needs_background": "light"
     },
     "output_type": "display_data"
    }
   ],
   "source": [
    "x = []\n",
    "y = []\n",
    "for (k,pk) in loi :\n",
    "    x.append(k)\n",
    "    y.append(pk)\n",
    "plt.figure()\n",
    "plt.bar(x,height = y, width = 0.2)\n",
    "plt.xlabel(\"k\")\n",
    "plt.ylabel(\"P(X=k)\")\n",
    "plt.show()"
   ]
  },
  {
   "cell_type": "markdown",
   "id": "f951a4f2",
   "metadata": {},
   "source": [
    "## 2 Exercices"
   ]
  },
  {
   "cell_type": "markdown",
   "id": "09bc6a5f",
   "metadata": {},
   "source": [
    "### 2.1 5000 simplifié"
   ]
  },
  {
   "cell_type": "code",
   "execution_count": 11,
   "id": "43534acf",
   "metadata": {},
   "outputs": [],
   "source": [
    "import random\n",
    "\n",
    "def simulation_experience5000():\n",
    "    return random.choices([1, 2, 3, 4, 5, 6], k=5)\n",
    "\n",
    "def fun_X5000(des):\n",
    "    res = 0\n",
    "    for i in range(len(des)):\n",
    "        if des[i] == 1:\n",
    "            res += 100\n",
    "        elif des[i] == 5:\n",
    "            res += 50\n",
    "    return res"
   ]
  },
  {
   "cell_type": "code",
   "execution_count": 12,
   "id": "cf49b17a",
   "metadata": {},
   "outputs": [],
   "source": [
    "def cinqmille(nbsim: int) -> dict:\n",
    "    res = {}\n",
    "    valeurs_simulees = simulation_repetee(simulation_experience5000, fun_X5000, nbsim)\n",
    "    res[\"loi\"] = estimation_loi(valeurs_simulees, list(range(0, 451, 50)))\n",
    "    \n",
    "    esperance = 0\n",
    "    variance = 0\n",
    "    for (k,pk) in res[\"loi\"]:\n",
    "        esperance += k * pk\n",
    "        variance = variance + (k ** 2) * pk\n",
    "    \n",
    "    res['E'] = round(esperance, 2)\n",
    "    res['V'] = round(variance - esperance ** 2, 2)\n",
    "    return res"
   ]
  },
  {
   "cell_type": "code",
   "execution_count": 13,
   "id": "5bdfb9ab",
   "metadata": {
    "scrolled": true
   },
   "outputs": [
    {
     "name": "stdout",
     "output_type": "stream",
     "text": [
      "{'loi': [(0, 0.127), (50, 0.164), (100, 0.238), (150, 0.184), (200, 0.159), (250, 0.067), (300, 0.046), (350, 0.01), (400, 0.003), (450, 0.001)], 'E': 127.1, 'V': 7370.59}\n"
     ]
    }
   ],
   "source": [
    "print(cinqmille(1000))"
   ]
  },
  {
   "cell_type": "markdown",
   "id": "5208a30b",
   "metadata": {},
   "source": [
    "#### Bonus"
   ]
  },
  {
   "cell_type": "code",
   "execution_count": 16,
   "id": "efbb4fd2",
   "metadata": {},
   "outputs": [],
   "source": [
    "import random\n",
    "\n",
    "def fun_X5000bonus(des):\n",
    "    res = 0\n",
    "    if (des == [1, 2, 3, 4, 5]) or (des == [2, 3, 4, 5, 6]) :\n",
    "        res += 1500\n",
    "    \n",
    "    dictio = {}\n",
    "    for i in range(len(des)):\n",
    "        if des[i] not in dictio:\n",
    "            dictio[des[i]] = 1\n",
    "        else:\n",
    "            dictio[des[i]] += 1\n",
    "    \n",
    "    for cle, valeur in dictio.items():\n",
    "        if valeur == 3:\n",
    "            if cle == 1:\n",
    "                res += 1000\n",
    "            else:\n",
    "                res += 100*cle\n",
    "    \n",
    "    return res"
   ]
  },
  {
   "cell_type": "code",
   "execution_count": 19,
   "id": "687612d4",
   "metadata": {},
   "outputs": [],
   "source": [
    "def cinqmillebonus(nbsim: int) -> dict:\n",
    "    res = {}\n",
    "    valeurs_simulees = simulation_repetee(simulation_experience5000, fun_X5000bonus, nbsim)\n",
    "    res[\"loi\"] = estimation_loi(valeurs_simulees, list(range(0, 2000, 100)))\n",
    "    \n",
    "    esperance = 0\n",
    "    variance = 0\n",
    "    for (k,pk) in res[\"loi\"]:\n",
    "        esperance += k * pk\n",
    "        variance = variance + (k ** 2) * pk\n",
    "    \n",
    "    res['E'] = round(esperance, 2)\n",
    "    res['V'] = round(variance - esperance ** 2, 2)\n",
    "    return res"
   ]
  },
  {
   "cell_type": "code",
   "execution_count": 20,
   "id": "b1d4822c",
   "metadata": {},
   "outputs": [
    {
     "name": "stdout",
     "output_type": "stream",
     "text": [
      "{'loi': [(0, 0.808), (100, 0.0), (200, 0.029), (300, 0.036), (400, 0.035), (500, 0.034), (600, 0.021), (700, 0.0), (800, 0.0), (900, 0.0), (1000, 0.037), (1100, 0.0), (1200, 0.0), (1300, 0.0), (1400, 0.0), (1500, 0.0), (1600, 0.0), (1700, 0.0), (1800, 0.0), (1900, 0.0)], 'E': 97.2, 'V': 53612.16}\n"
     ]
    }
   ],
   "source": [
    "print(cinqmillebonus(1000))"
   ]
  },
  {
   "cell_type": "markdown",
   "id": "feb9f3d2",
   "metadata": {},
   "source": [
    "### 2.2 Sanction pifométrique"
   ]
  },
  {
   "cell_type": "code",
   "execution_count": null,
   "id": "661a07a4",
   "metadata": {},
   "outputs": [],
   "source": []
  },
  {
   "cell_type": "code",
   "execution_count": null,
   "id": "f2c3dc43",
   "metadata": {},
   "outputs": [],
   "source": []
  },
  {
   "cell_type": "code",
   "execution_count": null,
   "id": "83498b50",
   "metadata": {},
   "outputs": [],
   "source": []
  },
  {
   "cell_type": "code",
   "execution_count": null,
   "id": "98914bcb",
   "metadata": {},
   "outputs": [],
   "source": []
  },
  {
   "cell_type": "code",
   "execution_count": null,
   "id": "244c832c",
   "metadata": {},
   "outputs": [],
   "source": []
  },
  {
   "cell_type": "code",
   "execution_count": null,
   "id": "a3804aee",
   "metadata": {},
   "outputs": [],
   "source": []
  }
 ],
 "metadata": {
  "kernelspec": {
   "display_name": "Python 3 (ipykernel)",
   "language": "python",
   "name": "python3"
  },
  "language_info": {
   "codemirror_mode": {
    "name": "ipython",
    "version": 3
   },
   "file_extension": ".py",
   "mimetype": "text/x-python",
   "name": "python",
   "nbconvert_exporter": "python",
   "pygments_lexer": "ipython3",
   "version": "3.8.10"
  }
 },
 "nbformat": 4,
 "nbformat_minor": 5
}
