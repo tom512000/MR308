{
 "cells": [
  {
   "cell_type": "markdown",
   "id": "6327456a",
   "metadata": {},
   "source": [
    "# Indépendance et conditionnement"
   ]
  },
  {
   "cell_type": "markdown",
   "id": "b10b798f",
   "metadata": {},
   "source": [
    "## 1 Indépendance"
   ]
  },
  {
   "cell_type": "markdown",
   "id": "734ef2e5",
   "metadata": {},
   "source": [
    "### 1.1 Introduction"
   ]
  },
  {
   "cell_type": "markdown",
   "id": "2dce80ed",
   "metadata": {},
   "source": [
    "- Initialiser cptA, cptB et cptAetB à \n",
    "- Soit n le nombre d’issues\n",
    "- Pour chaque issue possible\n",
    "    - Si cette issue est favorable à A:\n",
    "        - incrémenter cptA\n",
    "        - Si elle est favorable à B:\n",
    "            - incrémenter cptB et cptAetB\n",
    "    - Sinon, si elle est favorable à B:\n",
    "        - incrémenter cptB\n",
    "- Si (cptA / n) * (cptB / n) == cptAetB / n alors :\n",
    "    - retourner VRAI\n",
    "- Sinon, retourner FAUX"
   ]
  },
  {
   "cell_type": "markdown",
   "id": "7f5bd330",
   "metadata": {},
   "source": [
    "## 1.2 Exercice pratique : « Indépendance et contexte »"
   ]
  },
  {
   "cell_type": "markdown",
   "id": "b4517a0a",
   "metadata": {},
   "source": [
    "**1. Une urne contient 12 boules numérotées de 1 à 12 :**\n",
    "- P(A) : « tirage d’un nombre pair »\n",
    "- P(B) : « tirage d’un multiple de 3 »\n",
    "\n",
    "\n",
    "- P(A) = {2, 4, 6, 8, 10, 12} = 6/12 = 1/2\n",
    "- P(B) = {3, 6, 9, 12} = 4/12 = 1/3\n",
    "- P(A∩B) = {6, 12} = 2/12 = 1/6"
   ]
  },
  {
   "cell_type": "markdown",
   "id": "f36b6c99",
   "metadata": {},
   "source": [
    "**1. Une urne contient 13 boules numérotées de 1 à 13 :**\n",
    "- P(A) : « tirage d’un nombre pair »\n",
    "- P(B) : « tirage d’un multiple de 3 »\n",
    "\n",
    "\n",
    "- P(A) = {2, 4, 6, 8, 10, 12} = 6/12 = 1/2\n",
    "- P(B) = {3, 6, 9, 12} = 4/12 = 1/3\n",
    "- P(A∩B) = {6, 12} = 2/12 = 1/6"
   ]
  },
  {
   "cell_type": "markdown",
   "id": "110e49f5",
   "metadata": {},
   "source": [
    "## 2 Conditionnement"
   ]
  },
  {
   "cell_type": "markdown",
   "id": "02627a97",
   "metadata": {},
   "source": [
    "### 2.1 Introduction"
   ]
  },
  {
   "cell_type": "code",
   "execution_count": 72,
   "id": "aab5fb28",
   "metadata": {},
   "outputs": [
    {
     "name": "stdout",
     "output_type": "stream",
     "text": [
      "[4, 1, 7, 9, 5]\n",
      "[2, 6, 9, 7, 5, 3, 6, 5, 3, 5, 1, 6, 10, 1, 5]\n"
     ]
    }
   ],
   "source": [
    "import random\n",
    "print(random.sample([1, 2, 3, 4, 5, 6, 7, 8, 9, 10], 5))\n",
    "print(random.choices([1, 2, 3, 4, 5, 6, 7, 8, 9, 10], k = 15))"
   ]
  },
  {
   "cell_type": "markdown",
   "id": "786fe13c",
   "metadata": {},
   "source": [
    "### 2.2 Exercices pratiques"
   ]
  },
  {
   "cell_type": "markdown",
   "id": "78a77618",
   "metadata": {},
   "source": [
    "#### 2.2.1 Des dés et des sommes des dés"
   ]
  },
  {
   "cell_type": "code",
   "execution_count": 194,
   "id": "47c9d1f1",
   "metadata": {},
   "outputs": [],
   "source": [
    "def probA(nbsim: int) -> float:\n",
    "    issues = 0\n",
    "    for i in range(nbsim):\n",
    "        count6 = 0\n",
    "        simu = random.choices([1, 2, 3, 4, 5, 6], k = 4)\n",
    "        for j in range(len(simu)):\n",
    "            if simu[j] == 6:\n",
    "                count6 += 1\n",
    "        if count6 >= 2:\n",
    "            issues += 1\n",
    "    return issues/nbsim"
   ]
  },
  {
   "cell_type": "code",
   "execution_count": 233,
   "id": "efed9e4b",
   "metadata": {},
   "outputs": [],
   "source": [
    "def probAsachantB(nbsim: int) -> float:\n",
    "    issues = 0\n",
    "    for i in range(nbsim):\n",
    "        count6 = 0\n",
    "        somme = 0\n",
    "        simu = random.choices([1, 2, 3, 4, 5, 6], k = 4)\n",
    "        for j in range(len(simu)):\n",
    "            somme += simu[j]\n",
    "            if simu[j] == 6:\n",
    "                count6 += 1\n",
    "        if (count6 >= 2) and (somme == 18):\n",
    "            issues += 1\n",
    "    return issues/nbsim"
   ]
  },
  {
   "cell_type": "code",
   "execution_count": 234,
   "id": "46b390a0",
   "metadata": {
    "scrolled": false
   },
   "outputs": [
    {
     "name": "stdout",
     "output_type": "stream",
     "text": [
      "0.13207\n",
      "0.02258\n"
     ]
    }
   ],
   "source": [
    "print(probA(100000))\n",
    "print(probAsachantB(100000))"
   ]
  },
  {
   "cell_type": "markdown",
   "id": "d8c2b131",
   "metadata": {},
   "source": [
    "#### 2.2.2 Ali Babal"
   ]
  },
  {
   "cell_type": "markdown",
   "id": "8cc0c4af",
   "metadata": {},
   "source": [
    "Ali Baba place les boules blanches dans la première urne et les noires dans la seconde.\n",
    "\n",
    "Écrire une fonction qui simule aléatoirement le choix d’Ali Baba.\n",
    "\n",
    "Répéter cette expérience pour estimer sa probabilité de survie\n",
    "\n",
    "(vous prendrez soin de passer la répartition des boules dans les urnes en paramètres de votre fonction)"
   ]
  },
  {
   "cell_type": "code",
   "execution_count": 288,
   "id": "f45eda26",
   "metadata": {},
   "outputs": [],
   "source": [
    "def choixAli(urne1: list, urne2: list) -> str:\n",
    "    urne = random.choice([0, 1])\n",
    "    if urne == 1:\n",
    "        boule = random.choice(urne1)\n",
    "    else:\n",
    "        boule = random.choice(urne2)\n",
    "    return boule"
   ]
  },
  {
   "cell_type": "code",
   "execution_count": 305,
   "id": "3b05c57c",
   "metadata": {},
   "outputs": [
    {
     "name": "stdout",
     "output_type": "stream",
     "text": [
      "b\n"
     ]
    }
   ],
   "source": [
    "print(choixAli(['b', 'b', 'b', 'b'], ['n', 'n', 'n', 'n']))"
   ]
  },
  {
   "cell_type": "code",
   "execution_count": 376,
   "id": "e5fdff1d",
   "metadata": {},
   "outputs": [],
   "source": [
    "def probaChoixAli(nbsim: int, urne1: list, urne2: list) -> int:\n",
    "    nbissues = 0\n",
    "    for i in range(nbsim):\n",
    "        boule = choixAli(urne1, urne2)\n",
    "        if boule == 'b':\n",
    "            nbissues += 1\n",
    "    return nbissues/nbsim"
   ]
  },
  {
   "cell_type": "code",
   "execution_count": 402,
   "id": "6b4184f7",
   "metadata": {},
   "outputs": [
    {
     "name": "stdout",
     "output_type": "stream",
     "text": [
      "Ali Baba a 49.97% de chance de survivre.\n"
     ]
    }
   ],
   "source": [
    "chance = probaChoixAli(100000, ['b', 'b', 'b', 'b'], ['n', 'n', 'n', 'n'])\n",
    "print(f\"Ali Baba a {round(chance*100, 2)}% de chance de survivre.\")"
   ]
  },
  {
   "cell_type": "code",
   "execution_count": 375,
   "id": "69aed3a4",
   "metadata": {},
   "outputs": [
    {
     "name": "stdout",
     "output_type": "stream",
     "text": [
      "Ali Baba a 49.92% de chance de survivre.\n"
     ]
    }
   ],
   "source": [
    "chance = probaChoixAli(100000, ['b', 'b', 'n', 'n'], ['b', 'b', 'n', 'n'])\n",
    "print(f\"Ali Baba a {round(chance*100, 2)}% de chance de survivre.\")"
   ]
  },
  {
   "cell_type": "markdown",
   "id": "4d93961c",
   "metadata": {},
   "source": [
    "#### 2.2.3 Bayes aux corneilles"
   ]
  },
  {
   "cell_type": "code",
   "execution_count": 430,
   "id": "cfa72b28",
   "metadata": {},
   "outputs": [
    {
     "name": "stdout",
     "output_type": "stream",
     "text": [
      "['a' 'a' 'a' 'b' 'a' 'a' 'a' 'a' 'a' 'b']\n"
     ]
    }
   ],
   "source": [
    "import numpy as np\n",
    "tirage = np.random.choice(['a','b'], 10, replace = True, p=[0.75,0.25])\n",
    "print(tirage)"
   ]
  },
  {
   "cell_type": "code",
   "execution_count": 485,
   "id": "1f863516",
   "metadata": {},
   "outputs": [],
   "source": [
    "import numpy as np\n",
    "\n",
    "def proba_malade(nbsim: int) -> float:\n",
    "    positifMalade = 0.90\n",
    "    negatifSain = 0.97\n",
    "    probaMalade = 0.001\n",
    "\n",
    "    tests = np.random.choice(['malade', 'sain'], nbsim, replace=True, p=[probaMalade, 1 - probaMalade])\n",
    "    \n",
    "    resultats = []\n",
    "    for test in tests:\n",
    "        if test == 'malade':\n",
    "            resultatTest = np.random.choice(['positif', 'negatif'], 1, p = [positifMalade, 1 - positifMalade])\n",
    "        else:\n",
    "            resultatTest = np.random.choice(['positif', 'negatif'], 1, p = [1 - negatifSain, negatifSain])\n",
    "        resultats += [resultatTest]\n",
    "\n",
    "    testsPositifs = np.array(resultats) == 'positif'\n",
    "    maladePositif = np.sum(testsPositifs) / nbsim\n",
    "\n",
    "    return maladePositif"
   ]
  },
  {
   "cell_type": "code",
   "execution_count": 486,
   "id": "aca08a97",
   "metadata": {
    "scrolled": true
   },
   "outputs": [
    {
     "name": "stdout",
     "output_type": "stream",
     "text": [
      "0.03119\n"
     ]
    }
   ],
   "source": [
    "print(proba_malade(100000))"
   ]
  }
 ],
 "metadata": {
  "kernelspec": {
   "display_name": "Python 3 (ipykernel)",
   "language": "python",
   "name": "python3"
  },
  "language_info": {
   "codemirror_mode": {
    "name": "ipython",
    "version": 3
   },
   "file_extension": ".py",
   "mimetype": "text/x-python",
   "name": "python",
   "nbconvert_exporter": "python",
   "pygments_lexer": "ipython3",
   "version": "3.8.10"
  }
 },
 "nbformat": 4,
 "nbformat_minor": 5
}
