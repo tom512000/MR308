{
 "cells": [
  {
   "cell_type": "markdown",
   "id": "5c09e1a4",
   "metadata": {},
   "source": [
    "# Calcul des probabilités par énumération exhaustive"
   ]
  },
  {
   "cell_type": "markdown",
   "id": "4f24d036",
   "metadata": {},
   "source": [
    "## 1 Rappels de vocabulaire"
   ]
  },
  {
   "cell_type": "markdown",
   "id": "bbcc8bdb",
   "metadata": {},
   "source": [
    "(à faire)"
   ]
  },
  {
   "cell_type": "markdown",
   "id": "55e56968",
   "metadata": {},
   "source": [
    "## 2 Introduction"
   ]
  },
  {
   "cell_type": "markdown",
   "id": "c4254a59",
   "metadata": {},
   "source": [
    "(à faire)"
   ]
  },
  {
   "cell_type": "code",
   "execution_count": 1,
   "id": "b919eeb9",
   "metadata": {},
   "outputs": [],
   "source": [
    "# Exemple d'issue\n",
    "des = (2,6)"
   ]
  },
  {
   "cell_type": "code",
   "execution_count": 3,
   "id": "a4d5cb66",
   "metadata": {},
   "outputs": [
    {
     "name": "stdout",
     "output_type": "stream",
     "text": [
      "[(1, 1), (1, 2), (1, 3), (1, 4), (1, 5), (1, 6), (2, 1), (2, 2), (2, 3), (2, 4), (2, 5), (2, 6), (3, 1), (3, 2), (3, 3), (3, 4), (3, 5), (3, 6), (4, 1), (4, 2), (4, 3), (4, 4), (4, 5), (4, 6), (5, 1), (5, 2), (5, 3), (5, 4), (5, 5), (5, 6), (6, 1), (6, 2), (6, 3), (6, 4), (6, 5), (6, 6)]\n"
     ]
    }
   ],
   "source": [
    "issues = []\n",
    "for d1 in range(1,7):\n",
    "    for d2 in range(1,7):\n",
    "        issues.append((d1,d2))\n",
    "print(issues)"
   ]
  },
  {
   "cell_type": "code",
   "execution_count": 4,
   "id": "fc3ffacb",
   "metadata": {},
   "outputs": [
    {
     "name": "stdout",
     "output_type": "stream",
     "text": [
      "[(1, 1), (1, 2), (1, 3), (1, 4), (1, 5), (1, 6), (2, 1), (2, 2), (2, 3), (2, 4), (2, 5), (2, 6), (3, 1), (3, 2), (3, 3), (3, 4), (3, 5), (3, 6), (4, 1), (4, 2), (4, 3), (4, 4), (4, 5), (4, 6), (5, 1), (5, 2), (5, 3), (5, 4), (5, 5), (5, 6), (6, 1), (6, 2), (6, 3), (6, 4), (6, 5), (6, 6)]\n"
     ]
    }
   ],
   "source": [
    "issues = [(d1,d2) for d1 in range(1,7) for d2 in range(1,7)]\n",
    "print(issues)"
   ]
  },
  {
   "cell_type": "code",
   "execution_count": 5,
   "id": "8fbc95f5",
   "metadata": {},
   "outputs": [
    {
     "name": "stdout",
     "output_type": "stream",
     "text": [
      "[(1, 1), (1, 2), (1, 3), (1, 4), (1, 5), (1, 6), (2, 1), (2, 2), (2, 3), (2, 4), (2, 5), (2, 6), (3, 1), (3, 2), (3, 3), (3, 4), (3, 5), (3, 6), (4, 1), (4, 2), (4, 3), (4, 4), (4, 5), (4, 6), (5, 1), (5, 2), (5, 3), (5, 4), (5, 5), (5, 6), (6, 1), (6, 2), (6, 3), (6, 4), (6, 5), (6, 6)]\n"
     ]
    }
   ],
   "source": [
    "import itertools\n",
    "issues = list(itertools.product([1,2,3,4,5,6],repeat = 2))\n",
    "print(issues)"
   ]
  },
  {
   "cell_type": "code",
   "execution_count": 6,
   "id": "0a71d188",
   "metadata": {},
   "outputs": [
    {
     "name": "stdout",
     "output_type": "stream",
     "text": [
      "36\n"
     ]
    }
   ],
   "source": [
    "print(len(issues))"
   ]
  },
  {
   "cell_type": "code",
   "execution_count": 8,
   "id": "13f7ed49",
   "metadata": {},
   "outputs": [],
   "source": [
    "nb_iss_fav = 0\n",
    "for issue in issues :\n",
    "    if issue[0] == issue[1] or abs(issue[0]-issue[1]) == 1 :\n",
    "        nb_iss_fav += 1"
   ]
  },
  {
   "cell_type": "code",
   "execution_count": 9,
   "id": "3df91f2d",
   "metadata": {},
   "outputs": [
    {
     "name": "stdout",
     "output_type": "stream",
     "text": [
      "16\n"
     ]
    }
   ],
   "source": [
    "print(nb_iss_fav)"
   ]
  },
  {
   "cell_type": "code",
   "execution_count": 10,
   "id": "a5084562",
   "metadata": {},
   "outputs": [
    {
     "name": "stdout",
     "output_type": "stream",
     "text": [
      "0.4444444444444444\n"
     ]
    }
   ],
   "source": [
    "proba = nb_iss_fav / len(issues)\n",
    "print(proba)"
   ]
  },
  {
   "cell_type": "markdown",
   "id": "146c2805",
   "metadata": {},
   "source": [
    "## 3 Exercices pratiques"
   ]
  },
  {
   "cell_type": "markdown",
   "id": "94187de5",
   "metadata": {},
   "source": [
    "### 3.1 4-21"
   ]
  },
  {
   "cell_type": "code",
   "execution_count": 25,
   "id": "b1963ca5",
   "metadata": {},
   "outputs": [],
   "source": [
    "def proba_suite() -> float:\n",
    "    issues = list(itertools.product([1,2,3,4,5,6],repeat = 3))\n",
    "    nb_iss_fav = 0\n",
    "    for issue in issues :\n",
    "        sort_issue = sorted(issue)\n",
    "        if (sort_issue[0] == (sort_issue[1]-1)) and (sort_issue[2] == (sort_issue[1]+1)):\n",
    "            nb_iss_fav += 1\n",
    "    return nb_iss_fav / len(issues)"
   ]
  },
  {
   "cell_type": "code",
   "execution_count": 26,
   "id": "617d3e1b",
   "metadata": {},
   "outputs": [
    {
     "name": "stdout",
     "output_type": "stream",
     "text": [
      "0.1111111111111111\n"
     ]
    }
   ],
   "source": [
    "print(proba_suite())"
   ]
  },
  {
   "cell_type": "code",
   "execution_count": 37,
   "id": "8c54e692",
   "metadata": {},
   "outputs": [],
   "source": [
    "def proba_fiches() -> float:\n",
    "    issues = list(itertools.product([1,2,3,4,5,6],repeat = 3))\n",
    "    nb_iss_fav = 0\n",
    "    for issue in issues :\n",
    "        if issue.count(1) >= 2:\n",
    "            nb_iss_fav += 1\n",
    "    return nb_iss_fav / len(issues)"
   ]
  },
  {
   "cell_type": "code",
   "execution_count": 38,
   "id": "a6522a54",
   "metadata": {},
   "outputs": [
    {
     "name": "stdout",
     "output_type": "stream",
     "text": [
      "0.07407407407407407\n"
     ]
    }
   ],
   "source": [
    "print(proba_fiches())"
   ]
  },
  {
   "cell_type": "markdown",
   "id": "16ee83a9",
   "metadata": {},
   "source": [
    "### 3.2 Ouverture au 5000"
   ]
  },
  {
   "cell_type": "code",
   "execution_count": 44,
   "id": "2e440f41",
   "metadata": {},
   "outputs": [],
   "source": [
    "def proba_ouverture_5k(mini: int) -> float:\n",
    "    issues = list(itertools.product([1,2,3,4,5,6],repeat = 5))\n",
    "    nb_iss_fav = 0\n",
    "    for issue in issues :\n",
    "        points = 0\n",
    "        for i in range(len(issue)):\n",
    "            if issue[i] == 1:\n",
    "                points += 100\n",
    "            elif issue[i] == 5:\n",
    "                points += 50\n",
    "        if points >= mini:\n",
    "            nb_iss_fav += 1\n",
    "    return nb_iss_fav / len(issues)"
   ]
  },
  {
   "cell_type": "code",
   "execution_count": 45,
   "id": "fe968b19",
   "metadata": {},
   "outputs": [
    {
     "name": "stdout",
     "output_type": "stream",
     "text": [
      "0.016203703703703703\n",
      "0.125\n"
     ]
    }
   ],
   "source": [
    "print(proba_ouverture_5k(350))\n",
    "print(proba_ouverture_5k(250))"
   ]
  },
  {
   "cell_type": "markdown",
   "id": "ff885b9e",
   "metadata": {},
   "source": [
    "### 3.3 Chapeaux dérangés"
   ]
  },
  {
   "cell_type": "code",
   "execution_count": 70,
   "id": "7879c370",
   "metadata": {},
   "outputs": [],
   "source": [
    "def chapeaux(n: int) -> float:\n",
    "    issues = list(itertools.permutations([i for i in range(0,n)], n))\n",
    "    nb_iss_fav = 0\n",
    "    for issue in issues :\n",
    "        k = 0\n",
    "        for i in range(len(issue)):\n",
    "            if issue[i] == i:\n",
    "                k += 1\n",
    "        if k == 0:\n",
    "            nb_iss_fav += 1\n",
    "    return nb_iss_fav / len(issues)"
   ]
  },
  {
   "cell_type": "code",
   "execution_count": 71,
   "id": "e81b05ac",
   "metadata": {
    "scrolled": true
   },
   "outputs": [
    {
     "name": "stdout",
     "output_type": "stream",
     "text": [
      "0.5\n",
      "0.3333333333333333\n",
      "0.375\n",
      "0.36666666666666664\n",
      "0.3680555555555556\n"
     ]
    }
   ],
   "source": [
    "print(chapeaux(2))\n",
    "print(chapeaux(3))\n",
    "print(chapeaux(4))\n",
    "print(chapeaux(5))\n",
    "print(chapeaux(6))"
   ]
  },
  {
   "cell_type": "code",
   "execution_count": 72,
   "id": "44bca40b",
   "metadata": {},
   "outputs": [
    {
     "name": "stdout",
     "output_type": "stream",
     "text": [
      "[0.5, 0.3333333333333333, 0.375, 0.36666666666666664, 0.3680555555555556, 0.3678571428571429, 0.36788194444444444, 0.36787918871252206]\n"
     ]
    },
    {
     "data": {
      "image/png": "[encoded data removed]",
      "text/plain": [
       "<Figure size 432x288 with 1 Axes>"
      ]
     },
     "metadata": {
      "needs_background": "light"
     },
     "output_type": "display_data"
    }
   ],
   "source": [
    "import matplotlib\n",
    "import matplotlib.pyplot as plt\n",
    "abscisses = range(2,10)\n",
    "ordonnees = [chapeaux(x) for x in abscisses]\n",
    "print(ordonnees)\n",
    "plt.figure()\n",
    "plt.plot(abscisses,ordonnees)\n",
    "plt.xlabel(\"n\")\n",
    "plt.ylabel(\"Probabilité\")\n",
    "plt.show()"
   ]
  },
  {
   "cell_type": "markdown",
   "id": "3fe66e70",
   "metadata": {},
   "source": [
    "## 4 Digressions (bonus)"
   ]
  },
  {
   "cell_type": "markdown",
   "id": "9222d25b",
   "metadata": {},
   "source": [
    "### 4.1 Dérangement"
   ]
  },
  {
   "cell_type": "markdown",
   "id": "e89c1f3d",
   "metadata": {},
   "source": [
    "(à faire)"
   ]
  },
  {
   "cell_type": "markdown",
   "id": "d6ec20a5",
   "metadata": {},
   "source": [
    "### 4.2 Générateurs"
   ]
  },
  {
   "cell_type": "code",
   "execution_count": 74,
   "id": "9c370c2e",
   "metadata": {},
   "outputs": [
    {
     "name": "stdout",
     "output_type": "stream",
     "text": [
      "240\n",
      "30140776\n",
      "0.15681195259094238\n",
      "7.921920537948608\n"
     ]
    }
   ],
   "source": [
    "import time, sys\n",
    "l1 = itertools.permutations([0,1,2,3,4,5,6,7,8,9])\n",
    "l2 = list(itertools.permutations([0,1,2,3,4,5,6,7,8,9]))\n",
    "print(sys.getsizeof(l1))\n",
    "print(sys.getsizeof(l2))\n",
    "def fun1():\n",
    "    l1 = itertools.permutations([0,1,2,3,4,5,6,7,8,9])\n",
    "    for i in l1 :\n",
    "        None\n",
    "def fun2():\n",
    "    l2 = list(itertools.permutations([0,1,2,3,3,4,5,6,7,8,9]))\n",
    "    for i in l2:\n",
    "        None\n",
    "start_time = time.time()\n",
    "fun1()\n",
    "print(time.time()-start_time)\n",
    "start_time = time.time()\n",
    "fun2()\n",
    "print(time.time()-start_time)"
   ]
  },
  {
   "cell_type": "code",
   "execution_count": 75,
   "id": "7984f5a6",
   "metadata": {},
   "outputs": [
    {
     "name": "stdout",
     "output_type": "stream",
     "text": [
      "1920\n",
      "112\n"
     ]
    }
   ],
   "source": [
    "l1 = [(d1,d2,d3) for d1 in range(6) for d2 in range(6) for d3 in range(6)]\n",
    "l2 = ((d1,d2,d3) for d1 in range(6) for d2 in range(6) for d3 in range(6))\n",
    "print(sys.getsizeof(l1))\n",
    "print(sys.getsizeof(l2))"
   ]
  },
  {
   "cell_type": "markdown",
   "id": "c52eab62",
   "metadata": {},
   "source": [
    "### 4.3 Pour aller plus loin : généralisation"
   ]
  },
  {
   "cell_type": "code",
   "execution_count": 84,
   "id": "adfc8db4",
   "metadata": {},
   "outputs": [],
   "source": [
    "def proba(gE, tA) -> float:\n",
    "    nb_iss_fav = 0\n",
    "    for issue in gE:\n",
    "        if tA(issue):\n",
    "            nb_iss_fav += 1\n",
    "    return nb_iss_fav / len(issues)"
   ]
  },
  {
   "cell_type": "code",
   "execution_count": 85,
   "id": "c0bc93ba",
   "metadata": {},
   "outputs": [
    {
     "name": "stdout",
     "output_type": "stream",
     "text": [
      "0.16666666666666666\n"
     ]
    }
   ],
   "source": [
    "# Probabilité d'avoir un double en lançant deux dés\n",
    "p = proba(gE = itertools.product([1, 2, 3, 4, 5, 6],[1, 2, 3, 4, 5, 6]),\n",
    "          tA = lambda x: x[0] == x[1])\n",
    "print(p)"
   ]
  }
 ],
 "metadata": {
  "kernelspec": {
   "display_name": "Python 3 (ipykernel)",
   "language": "python",
   "name": "python3"
  },
  "language_info": {
   "codemirror_mode": {
    "name": "ipython",
    "version": 3
   },
   "file_extension": ".py",
   "mimetype": "text/x-python",
   "name": "python",
   "nbconvert_exporter": "python",
   "pygments_lexer": "ipython3",
   "version": "3.8.10"
  }
 },
 "nbformat": 4,
 "nbformat_minor": 5
}
